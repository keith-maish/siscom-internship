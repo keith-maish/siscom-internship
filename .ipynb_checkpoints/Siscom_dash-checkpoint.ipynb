{
 "cells": [
  {
   "cell_type": "code",
   "execution_count": 1,
   "id": "c54e9327-3606-4084-b68d-1ea313f2d1e4",
   "metadata": {},
   "outputs": [],
   "source": [
    "import pandas as pd\n",
    "import matplotlib.pyplot as plt\n",
    "%matplotlib inline"
   ]
  },
  {
   "cell_type": "code",
   "execution_count": 2,
   "id": "459a7614-0f11-4902-bd45-ba4999c8133b",
   "metadata": {},
   "outputs": [],
   "source": [
    "KPI_Targets_sheet= pd.read_excel(\"SISCOM DASHBOARD.xlsx\", sheet_name= \"KPI Targets\")\n",
    "Cash_Flow_Comparison_sheet= pd.read_excel(\"SISCOM DASHBOARD.xlsx\", sheet_name= \"Cash Flow Comparison\")\n",
    "Asset_Depreciation_sheet= pd.read_excel(\"SISCOM DASHBOARD.xlsx\", sheet_name= \"Asset Depreciation\")"
   ]
  },
  {
   "cell_type": "markdown",
   "id": "dd17b756-0260-4da2-90fe-5e3e24037332",
   "metadata": {},
   "source": [
    "# Calculating Investment Option performance"
   ]
  },
  {
   "cell_type": "code",
   "execution_count": 5,
   "id": "07abecc4-441f-4c20-bdd7-91e97fe2b928",
   "metadata": {},
   "outputs": [],
   "source": [
    "# Functiton to calculate investment value after 'yrs' years\n",
    "def calcAmount(principal, rate, yrs):\n",
    "    amount= principal * (1 + rate / 1) ** yrs\n",
    "    return amount\n",
    "\n",
    "# Function to calculate return acquired in a specific year\n",
    "def calcReturn(principal, rate, yr):\n",
    "    amountToday= calcAmount(principal, rate, yr)\n",
    "    amountLstYr=  calcAmount(principal, rate, yr-1)\n",
    "    interest= amountToday- amountLstYr\n",
    "    return interest\n",
    "\n",
    "# Function to generate list of interests acquired upto 'yrs' years\n",
    "def genYearlyInterests(principal, rate, yrs):\n",
    "    interests= [0]\n",
    "    for i in range(yrs):\n",
    "        interests.append(calcReturn(principal, rate, i+1))\n",
    "    return interests\n",
    "\n",
    "# Function to generate list of amounts acquired upto 'yrs' years\n",
    "def genYearlyAmounts(principal, rate, yrs):\n",
    "    amounts= [principal]\n",
    "    for i in range(yrs):\n",
    "        amounts.append(calcAmount(principal, rate, i+1))\n",
    "    return amounts"
   ]
  },
  {
   "cell_type": "code",
   "execution_count": 18,
   "id": "6335cdf0-eeb4-44ec-99c4-7c4d3e189e0b",
   "metadata": {},
   "outputs": [],
   "source": [
    "# Function to create bar chart of returns by year\n",
    "def genReturnBarChart(investment, interests, amounts):\n",
    "    fig, ax= plt.subplots()\n",
    "    ax.bar(range(len(amounts)),amounts)\n",
    "    ax.set_xlabel(\"Year\")\n",
    "    ax.set_ylabel(\"Return\")\n",
    "    ax.set_title(investment)\n",
    "    return fig"
   ]
  },
  {
   "cell_type": "code",
   "execution_count": 23,
   "id": "5a9433ac-c604-49df-8ddc-0dfcddf3cca9",
   "metadata": {},
   "outputs": [],
   "source": [
    "# List of dictionaries\n",
    "# Where each key is the Investment Option\n",
    "# And the value is a tuple of the investment's base investment and its yearly % return\n",
    "Investments= {'BareMetal': (13000, 0.2),\n",
    "        'Fractional': (13000, 0.15),\n",
    "        'MMF': (13000, 0.11),\n",
    "        'T-Bill': (0.12),\n",
    "        'Bond': (0.13),\n",
    "        'Land': (0.1)}"
   ]
  },
  {
   "cell_type": "code",
   "execution_count": 29,
   "id": "413a155e-927c-42ee-93d6-b8d974a21ba1",
   "metadata": {},
   "outputs": [
    {
     "data": {
      "text/plain": [
       "'BareMetal'"
      ]
     },
     "execution_count": 29,
     "metadata": {},
     "output_type": "execute_result"
    }
   ],
   "source": [
    "list(Investments.keys())[0]"
   ]
  },
  {
   "cell_type": "code",
   "execution_count": 30,
   "id": "1d13e1cc-7d5b-441b-a848-4795d4a9f83a",
   "metadata": {},
   "outputs": [
    {
     "data": {
      "image/png": "[encoded data removed]",
      "text/plain": [
       "<Figure size 640x480 with 1 Axes>"
      ]
     },
     "execution_count": 30,
     "metadata": {},
     "output_type": "execute_result"
    }
   ],
   "source": [
    "amounts= genYearlyAmounts(13000, 0.2, 5)\n",
    "interests= genYearlyInterests(13000, 0.2, 5)\n",
    "fig= genReturnBarChart(list(Investments.keys())[0], interests, amounts)\n",
    "fig"
   ]
  },
  {
   "cell_type": "code",
   "execution_count": 11,
   "id": "c177f607-76c9-453f-8ca8-c6dcb4bc0f50",
   "metadata": {},
   "outputs": [
    {
     "data": {
      "text/html": [
       "<div>\n",
       "<style scoped>\n",
       "    .dataframe tbody tr th:only-of-type {\n",
       "        vertical-align: middle;\n",
       "    }\n",
       "\n",
       "    .dataframe tbody tr th {\n",
       "        vertical-align: top;\n",
       "    }\n",
       "\n",
       "    .dataframe thead th {\n",
       "        text-align: right;\n",
       "    }\n",
       "</style>\n",
       "<table border=\"1\" class=\"dataframe\">\n",
       "  <thead>\n",
       "    <tr style=\"text-align: right;\">\n",
       "      <th></th>\n",
       "      <th>Investment Option</th>\n",
       "      <th>Base Investment (USD)</th>\n",
       "      <th>Yealyr Return (%)</th>\n",
       "      <th>1-Year Amount (USD)</th>\n",
       "      <th>1-Year Interest (USD)</th>\n",
       "      <th>2-Year Amount (USD)</th>\n",
       "      <th>2-Year Interest (USD)</th>\n",
       "      <th>3-Year Amount (USD)</th>\n",
       "      <th>3-Year Interest (USD)</th>\n",
       "      <th>4-Year Amount (USD)</th>\n",
       "      <th>4-Year Interest (USD)</th>\n",
       "      <th>5-Year Amount (USD)</th>\n",
       "      <th>5-Year Interest (USD)</th>\n",
       "    </tr>\n",
       "  </thead>\n",
       "  <tbody>\n",
       "    <tr>\n",
       "      <th>0</th>\n",
       "      <td>Siscom - Bare Metal</td>\n",
       "      <td>13000</td>\n",
       "      <td>0.20</td>\n",
       "      <td>15600.0</td>\n",
       "      <td>2600.0</td>\n",
       "      <td>18720.0</td>\n",
       "      <td>3120.0</td>\n",
       "      <td>22464.000</td>\n",
       "      <td>3744.000</td>\n",
       "      <td>26956.80000</td>\n",
       "      <td>4492.80000</td>\n",
       "      <td>32348.160000</td>\n",
       "      <td>5391.360000</td>\n",
       "    </tr>\n",
       "    <tr>\n",
       "      <th>1</th>\n",
       "      <td>Siscom - Fractional</td>\n",
       "      <td>13000</td>\n",
       "      <td>0.15</td>\n",
       "      <td>14950.0</td>\n",
       "      <td>1950.0</td>\n",
       "      <td>17192.5</td>\n",
       "      <td>2242.5</td>\n",
       "      <td>19771.375</td>\n",
       "      <td>2578.875</td>\n",
       "      <td>22737.08125</td>\n",
       "      <td>2965.70625</td>\n",
       "      <td>26147.643437</td>\n",
       "      <td>3410.562187</td>\n",
       "    </tr>\n",
       "    <tr>\n",
       "      <th>2</th>\n",
       "      <td>MMF</td>\n",
       "      <td>13000</td>\n",
       "      <td>0.11</td>\n",
       "      <td>14430.0</td>\n",
       "      <td>1430.0</td>\n",
       "      <td>16017.3</td>\n",
       "      <td>1587.3</td>\n",
       "      <td>17779.203</td>\n",
       "      <td>1761.903</td>\n",
       "      <td>19734.91533</td>\n",
       "      <td>1955.71233</td>\n",
       "      <td>21905.756016</td>\n",
       "      <td>2170.840686</td>\n",
       "    </tr>\n",
       "    <tr>\n",
       "      <th>3</th>\n",
       "      <td>T-Bill</td>\n",
       "      <td>13000</td>\n",
       "      <td>0.12</td>\n",
       "      <td>14560.0</td>\n",
       "      <td>1560.0</td>\n",
       "      <td>16307.2</td>\n",
       "      <td>1747.2</td>\n",
       "      <td>18264.064</td>\n",
       "      <td>1956.864</td>\n",
       "      <td>20455.75168</td>\n",
       "      <td>2191.68768</td>\n",
       "      <td>22910.441882</td>\n",
       "      <td>2454.690202</td>\n",
       "    </tr>\n",
       "    <tr>\n",
       "      <th>4</th>\n",
       "      <td>Bond</td>\n",
       "      <td>13000</td>\n",
       "      <td>0.13</td>\n",
       "      <td>14690.0</td>\n",
       "      <td>1690.0</td>\n",
       "      <td>16599.7</td>\n",
       "      <td>1909.7</td>\n",
       "      <td>18757.661</td>\n",
       "      <td>2157.961</td>\n",
       "      <td>21196.15693</td>\n",
       "      <td>2438.49593</td>\n",
       "      <td>23951.657331</td>\n",
       "      <td>2755.500401</td>\n",
       "    </tr>\n",
       "    <tr>\n",
       "      <th>5</th>\n",
       "      <td>Land Appreciation</td>\n",
       "      <td>13000</td>\n",
       "      <td>0.10</td>\n",
       "      <td>14300.0</td>\n",
       "      <td>1300.0</td>\n",
       "      <td>15730.0</td>\n",
       "      <td>1430.0</td>\n",
       "      <td>17303.000</td>\n",
       "      <td>1573.000</td>\n",
       "      <td>19033.30000</td>\n",
       "      <td>1730.30000</td>\n",
       "      <td>20936.630000</td>\n",
       "      <td>1903.330000</td>\n",
       "    </tr>\n",
       "  </tbody>\n",
       "</table>\n",
       "</div>"
      ],
      "text/plain": [
       "     Investment Option  Base Investment (USD)  Yealyr Return (%)  \\\n",
       "0  Siscom - Bare Metal                  13000               0.20   \n",
       "1  Siscom - Fractional                  13000               0.15   \n",
       "2                  MMF                  13000               0.11   \n",
       "3               T-Bill                  13000               0.12   \n",
       "4                 Bond                  13000               0.13   \n",
       "5    Land Appreciation                  13000               0.10   \n",
       "\n",
       "   1-Year Amount (USD)  1-Year Interest (USD)  2-Year Amount (USD)  \\\n",
       "0              15600.0                 2600.0              18720.0   \n",
       "1              14950.0                 1950.0              17192.5   \n",
       "2              14430.0                 1430.0              16017.3   \n",
       "3              14560.0                 1560.0              16307.2   \n",
       "4              14690.0                 1690.0              16599.7   \n",
       "5              14300.0                 1300.0              15730.0   \n",
       "\n",
       "   2-Year Interest (USD)  3-Year Amount (USD)  3-Year Interest (USD)  \\\n",
       "0                 3120.0            22464.000               3744.000   \n",
       "1                 2242.5            19771.375               2578.875   \n",
       "2                 1587.3            17779.203               1761.903   \n",
       "3                 1747.2            18264.064               1956.864   \n",
       "4                 1909.7            18757.661               2157.961   \n",
       "5                 1430.0            17303.000               1573.000   \n",
       "\n",
       "   4-Year Amount (USD)  4-Year Interest (USD)  5-Year Amount (USD)  \\\n",
       "0          26956.80000             4492.80000         32348.160000   \n",
       "1          22737.08125             2965.70625         26147.643437   \n",
       "2          19734.91533             1955.71233         21905.756016   \n",
       "3          20455.75168             2191.68768         22910.441882   \n",
       "4          21196.15693             2438.49593         23951.657331   \n",
       "5          19033.30000             1730.30000         20936.630000   \n",
       "\n",
       "   5-Year Interest (USD)  \n",
       "0            5391.360000  \n",
       "1            3410.562187  \n",
       "2            2170.840686  \n",
       "3            2454.690202  \n",
       "4            2755.500401  \n",
       "5            1903.330000  "
      ]
     },
     "execution_count": 11,
     "metadata": {},
     "output_type": "execute_result"
    }
   ],
   "source": [
    "Cash_Flow_Comparison_sheet"
   ]
  },
  {
   "cell_type": "code",
   "execution_count": null,
   "id": "4bce9599-8254-4255-bb00-400856536cdc",
   "metadata": {},
   "outputs": [],
   "source": []
  }
 ],
 "metadata": {
  "kernelspec": {
   "display_name": "Python [conda env:base] *",
   "language": "python",
   "name": "conda-base-py"
  },
  "language_info": {
   "codemirror_mode": {
    "name": "ipython",
    "version": 3
   },
   "file_extension": ".py",
   "mimetype": "text/x-python",
   "name": "python",
   "nbconvert_exporter": "python",
   "pygments_lexer": "ipython3",
   "version": "3.12.7"
  }
 },
 "nbformat": 4,
 "nbformat_minor": 5
}
